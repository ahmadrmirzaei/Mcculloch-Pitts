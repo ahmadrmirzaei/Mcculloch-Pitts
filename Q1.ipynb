{
 "cells": [
  {
   "cell_type": "code",
   "execution_count": 13,
   "metadata": {},
   "outputs": [],
   "source": [
    "from typing import Self\n",
    "class Neuron:\n",
    "    def __init__(self, name, threshold=1):\n",
    "        self.name = name\n",
    "        self.threshold = threshold\n",
    "        self.net = 0\n",
    "        self.next_neurons:list[tuple(Self)] = list()\n",
    "        self.prev_neurons:list[Self] = list()\n",
    "        self.val = False\n",
    "        self.done = False\n",
    "\n",
    "    def to(self, neuron:Self, weight):\n",
    "        self.next_neurons.append((neuron, weight))\n",
    "        neuron.prev_neurons.append(self)\n",
    "\n",
    "    def fire(self):\n",
    "        self.val = True\n",
    "        for neuron, weight in self.next_neurons:\n",
    "            neuron.net += weight\n",
    "\n",
    "    def __prev_done(self):\n",
    "        for neuron in self.prev_neurons:\n",
    "            if not neuron.done:\n",
    "                return False\n",
    "        return True\n",
    "\n",
    "    def eval(self):\n",
    "        if self.done: return\n",
    "        if not self.__prev_done(): return\n",
    "        if self.net >= self.threshold:\n",
    "            self.fire()\n",
    "        self.done = True\n",
    "    \n",
    "    def reset(self):\n",
    "        self.net = 0\n",
    "        self.val = False\n",
    "        self.done = False\n",
    "\n",
    "    def __str__(self):\n",
    "        return \"(%s = %d)\" % (self.name, self.val)\n"
   ]
  },
  {
   "cell_type": "code",
   "execution_count": 14,
   "metadata": {},
   "outputs": [],
   "source": [
    "class Network:\n",
    "    def __init__(self, inputs:list[Neuron]=list(), outputs:list[Neuron]=list()):\n",
    "        self.inputs = inputs\n",
    "        self.outputs = outputs\n",
    "\n",
    "        self.neurons = self.inputs + self.outputs\n",
    "\n",
    "    def __find(self, name:str):\n",
    "        for neuron in self.neurons:\n",
    "            if neuron.name == name:\n",
    "                return neuron\n",
    "    \n",
    "    def add(self, name, threshold):\n",
    "        self.neurons.append(Neuron(name, threshold))\n",
    "    \n",
    "    def to(self, pre:str, post:str, weight:int):\n",
    "        pre:Neuron = self.__find(pre)\n",
    "        post:Neuron = self.__find(post)\n",
    "        pre.to(post, weight)\n",
    "\n",
    "    def __log(self):\n",
    "        inputs_str = str()\n",
    "        for neuron in self.inputs:\n",
    "            inputs_str += str(neuron) + \" \"\n",
    "        outputs_str = str()\n",
    "        for neuron in self.outputs:\n",
    "            outputs_str += str(neuron) + \" \"\n",
    "        return inputs_str + \"-> \" + outputs_str\n",
    "    \n",
    "    def __done(self):\n",
    "        for neuron in self.neurons:\n",
    "            if not neuron.done:\n",
    "                return False\n",
    "        return True\n",
    "\n",
    "    def eval(self, inputs:list[int]):\n",
    "        for i in range(len(inputs)):\n",
    "            self.inputs[i].net = inputs[i]\n",
    "        while not self.__done():\n",
    "            for neuron in self.neurons:\n",
    "                neuron.eval()\n",
    "        return self.__log()\n",
    "\n",
    "    def reset(self):\n",
    "        for neuron in self.neurons:\n",
    "            neuron.reset()"
   ]
  },
  {
   "cell_type": "code",
   "execution_count": 15,
   "metadata": {},
   "outputs": [],
   "source": [
    "x_vals = [\n",
    "            [0,0,0], [0,0,1],\n",
    "            [0,1,0], [0,1,1],\n",
    "            [1,0,0], [1,0,1],\n",
    "            [1,1,0], [1,1,1],\n",
    "        ]\n",
    "\n",
    "x = [Neuron(\"X2\"), Neuron(\"X1\"), Neuron(\"X0\")]\n",
    "\n",
    "def run(Neural_Network:Network):\n",
    "    for x_val in x_vals:\n",
    "        print(Neural_Network.eval(x_val))\n",
    "        Neural_Network.reset()\n"
   ]
  },
  {
   "cell_type": "code",
   "execution_count": 16,
   "metadata": {},
   "outputs": [
    {
     "name": "stdout",
     "output_type": "stream",
     "text": [
      "(X2 = 0) (X1 = 0) (X0 = 0) -> (Y0 = 0) \n",
      "(X2 = 0) (X1 = 0) (X0 = 1) -> (Y0 = 0) \n",
      "(X2 = 0) (X1 = 1) (X0 = 0) -> (Y0 = 0) \n",
      "(X2 = 0) (X1 = 1) (X0 = 1) -> (Y0 = 0) \n",
      "(X2 = 1) (X1 = 0) (X0 = 0) -> (Y0 = 1) \n",
      "(X2 = 1) (X1 = 0) (X0 = 1) -> (Y0 = 0) \n",
      "(X2 = 1) (X1 = 1) (X0 = 0) -> (Y0 = 1) \n",
      "(X2 = 1) (X1 = 1) (X0 = 1) -> (Y0 = 1) \n"
     ]
    }
   ],
   "source": [
    "threshold = 2\n",
    "y = [Neuron(\"Y0\", threshold)]\n",
    "nn = Network(x, y)\n",
    "\n",
    "nn.add(\"A\", threshold)\n",
    "nn.add(\"AN\", threshold)\n",
    "\n",
    "nn.to(\"X0\", \"AN\", -1)\n",
    "nn.to(\"X1\", \"A\", 1)\n",
    "nn.to(\"X2\", \"A\", 1)\n",
    "nn.to(\"X2\", \"AN\", 2)\n",
    "\n",
    "nn.to(\"A\", \"Y0\", 2)\n",
    "nn.to(\"AN\", \"Y0\", 2)\n",
    "\n",
    "run(nn)"
   ]
  },
  {
   "cell_type": "code",
   "execution_count": 17,
   "metadata": {},
   "outputs": [
    {
     "name": "stdout",
     "output_type": "stream",
     "text": [
      "(X2 = 0) (X1 = 0) (X0 = 0) -> (Y1 = 0) \n",
      "(X2 = 0) (X1 = 0) (X0 = 1) -> (Y1 = 1) \n",
      "(X2 = 0) (X1 = 1) (X0 = 0) -> (Y1 = 0) \n",
      "(X2 = 0) (X1 = 1) (X0 = 1) -> (Y1 = 1) \n",
      "(X2 = 1) (X1 = 0) (X0 = 0) -> (Y1 = 1) \n",
      "(X2 = 1) (X1 = 0) (X0 = 1) -> (Y1 = 1) \n",
      "(X2 = 1) (X1 = 1) (X0 = 0) -> (Y1 = 1) \n",
      "(X2 = 1) (X1 = 1) (X0 = 1) -> (Y1 = 1) \n"
     ]
    }
   ],
   "source": [
    "threshold = 1\n",
    "y = [Neuron(\"Y1\", threshold)]\n",
    "nn = Network(x, y)\n",
    "\n",
    "nn.to(\"X0\", \"Y1\", 1)\n",
    "nn.to(\"X1\", \"Y1\", 0)\n",
    "nn.to(\"X2\", \"Y1\", 1)\n",
    "\n",
    "run(nn)\n"
   ]
  },
  {
   "cell_type": "code",
   "execution_count": 18,
   "metadata": {},
   "outputs": [
    {
     "name": "stdout",
     "output_type": "stream",
     "text": [
      "(X2 = 0) (X1 = 0) (X0 = 0) -> (Y2 = 0) \n",
      "(X2 = 0) (X1 = 0) (X0 = 1) -> (Y2 = 0) \n",
      "(X2 = 0) (X1 = 1) (X0 = 0) -> (Y2 = 1) \n",
      "(X2 = 0) (X1 = 1) (X0 = 1) -> (Y2 = 0) \n",
      "(X2 = 1) (X1 = 0) (X0 = 0) -> (Y2 = 1) \n",
      "(X2 = 1) (X1 = 0) (X0 = 1) -> (Y2 = 0) \n",
      "(X2 = 1) (X1 = 1) (X0 = 0) -> (Y2 = 1) \n",
      "(X2 = 1) (X1 = 1) (X0 = 1) -> (Y2 = 1) \n"
     ]
    }
   ],
   "source": [
    "threshold = 2\n",
    "y = [Neuron(\"Y2\", threshold)]\n",
    "nn = Network(x, y)\n",
    "\n",
    "nn.add(\"O\", threshold)\n",
    "nn.add(\"A\", threshold)\n",
    "nn.add(\"AN\", threshold)\n",
    "\n",
    "nn.to(\"X0\", \"AN\", -1)\n",
    "nn.to(\"X1\", \"O\", 2)\n",
    "nn.to(\"X1\", \"A\", 1)\n",
    "nn.to(\"X2\", \"O\", 2)\n",
    "nn.to(\"X2\", \"A\", 1)\n",
    "\n",
    "nn.to(\"O\", \"AN\", 2)\n",
    "\n",
    "nn.to(\"A\", \"Y2\", 2)\n",
    "nn.to(\"AN\", \"Y2\", 2)\n",
    "\n",
    "run(nn)"
   ]
  }
 ],
 "metadata": {
  "kernelspec": {
   "display_name": "Python 3",
   "language": "python",
   "name": "python3"
  },
  "language_info": {
   "codemirror_mode": {
    "name": "ipython",
    "version": 3
   },
   "file_extension": ".py",
   "mimetype": "text/x-python",
   "name": "python",
   "nbconvert_exporter": "python",
   "pygments_lexer": "ipython3",
   "version": "3.11.2"
  },
  "orig_nbformat": 4
 },
 "nbformat": 4,
 "nbformat_minor": 2
}
